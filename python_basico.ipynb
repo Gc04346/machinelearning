{
  "nbformat": 4,
  "nbformat_minor": 0,
  "metadata": {
    "colab": {
      "name": "Untitled0.ipynb",
      "provenance": [],
      "collapsed_sections": [],
      "authorship_tag": "ABX9TyN2cOEWGXJ7fV4sohiroCM/",
      "include_colab_link": true
    },
    "kernelspec": {
      "name": "python3",
      "display_name": "Python 3"
    },
    "language_info": {
      "name": "python"
    }
  },
  "cells": [
    {
      "cell_type": "markdown",
      "metadata": {
        "id": "view-in-github",
        "colab_type": "text"
      },
      "source": [
        "<a href=\"https://colab.research.google.com/github/Gc04346/machinelearning/blob/main/python_basico.ipynb\" target=\"_parent\"><img src=\"https://colab.research.google.com/assets/colab-badge.svg\" alt=\"Open In Colab\"/></a>"
      ]
    },
    {
      "cell_type": "code",
      "metadata": {
        "id": "CAAjaqOawhyq"
      },
      "source": [
        "# Python Básico"
      ],
      "execution_count": null,
      "outputs": []
    },
    {
      "cell_type": "code",
      "metadata": {
        "id": "N-MOTWYzthfU"
      },
      "source": [
        "## Unidade 2"
      ],
      "execution_count": null,
      "outputs": []
    },
    {
      "cell_type": "code",
      "metadata": {
        "id": "UlI6aTrNtsYz"
      },
      "source": [
        "### Exercício 8"
      ],
      "execution_count": null,
      "outputs": []
    },
    {
      "cell_type": "code",
      "metadata": {
        "id": "4VmpNFEew0zL",
        "outputId": "ed9b8591-abc9-4202-998c-f22a9c8f14d1",
        "colab": {
          "base_uri": "https://localhost:8080/"
        }
      },
      "source": [
        "pessoas = [\"Alice\",\"Bob\",\"Carol\"]\n",
        "amizades = [[0,1,0],\n",
        "           [1,1,0],\n",
        "            [1,1,0]]\n",
        "\n",
        "amigos_bob = exibe_amigos(pessoas, amizades,\"Bob\")\n",
        "print(f\"Amigos de Bob: {amigos_bob}\")  # Como a diagonal da matriz não é zero, teremos a peculiaridade de Bob ser amigo de Bob\n",
        "\n",
        "amigos_carol = exibe_amigos(pessoas, amizades,\"Carol\")\n",
        "print(f\"Amigos de Carol: {amigos_carol}\")\n",
        "\n",
        "amigos_alice = exibe_amigos(pessoas, amizades,\"Alice\")\n",
        "print(f\"Amigos de Alice: {amigos_alice}\")\n",
        "\n",
        "amigos_bob_carol = exibe_amigos_em_comum(pessoas, amizades,\"Bob\", \"Carol\")\n",
        "print(f\"Amigos em comum entre Bob e Carol: {amigos_bob_carol}\")\n",
        "\n",
        "amigos_alice_carol = exibe_amigos_em_comum(pessoas, amizades,\"Alice\", \"Carol\")\n",
        "print(f\"Amigos em comum entre Alice e Carol: {amigos_alice_carol}\")\n",
        "\n",
        "amigos_alice_bob = exibe_amigos_em_comum(pessoas, amizades,\"Alice\", \"Bob\")\n",
        "print(f\"Amigos em comum entre Alice e Bob: {amigos_alice_bob}\")"
      ],
      "execution_count": 40,
      "outputs": [
        {
          "output_type": "stream",
          "name": "stdout",
          "text": [
            "Amigos de Bob: ['Alice', 'Bob']\n",
            "Amigos de Carol: ['Alice', 'Bob']\n",
            "Amigos de Alice: ['Bob']\n",
            "Amigos em comum entre Bob e Carol: ['Alice', 'Bob']\n",
            "Amigos em comum entre Alice e Carol: ['Bob']\n",
            "Amigos em comum entre Alice e Bob: ['Bob']\n"
          ]
        }
      ]
    },
    {
      "cell_type": "code",
      "metadata": {
        "id": "JtAj9OZpwsHg"
      },
      "source": [
        "def exibe_amigos(pessoas, amizades, nome_pessoa):\n",
        "  \"\"\"\n",
        "  Lista os amigos de uma pessoa.\n",
        "  Args:\n",
        "    pessoas: vetor que relaciona os nomes das pessoas com seus \"ids\" (índices no vetor)\n",
        "    amizades: matriz de amizades\n",
        "    nome_pessoa: pessoa de cujos amigos estamos buscando\n",
        "  Returns:\n",
        "    lista de amigos de nome_pessoa\n",
        "  \"\"\"\n",
        "  person_index: int = pessoas.index(nome_pessoa)\n",
        "  friends: list = [pessoas[index] for index, friendship in enumerate(amizades[person_index]) if friendship]\n",
        "  return friends\n",
        "\n",
        "def exibe_amigos_em_comum(pessoas, amizades, nome_pessoa_1, nome_pessoa_2):\n",
        "  \"\"\"\n",
        "  Lista os amigos em comum entre duas pessoas.\n",
        "  Args:\n",
        "    pessoas: vetor que relaciona os nomes das pessoas com seus \"ids\" (índices no vetor)\n",
        "    amizades: matriz de amizades\n",
        "    nome_pessoa_1: nome da primeira pessoa\n",
        "    nome_pessoa_2: nome da segunda pessoa pessoa\n",
        "  Returns:\n",
        "    Lista de amigos em comum entre nome_pessoa_1 e nome_pessoa_2.\n",
        "  \"\"\"\n",
        "  person_one_index: int = pessoas.index(nome_pessoa_1)\n",
        "  person_two_index: int = pessoas.index(nome_pessoa_2)\n",
        "  person_one_friends: list = [index for index, friendship in enumerate(amizades[person_one_index]) if friendship]\n",
        "  person_two_friends: list = [index for index, friendship in enumerate(amizades[person_two_index]) if friendship]\n",
        "  mutual_friends: list = [pessoas[friend] for friend in person_one_friends if friend in person_two_friends]\n",
        "  return mutual_friends"
      ],
      "execution_count": 38,
      "outputs": []
    }
  ]
}
