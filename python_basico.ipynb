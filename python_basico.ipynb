{
  "nbformat": 4,
  "nbformat_minor": 0,
  "metadata": {
    "colab": {
      "name": "Untitled0.ipynb",
      "provenance": [],
      "collapsed_sections": [],
      "include_colab_link": true
    },
    "kernelspec": {
      "name": "python3",
      "display_name": "Python 3"
    },
    "language_info": {
      "name": "python"
    }
  },
  "cells": [
    {
      "cell_type": "markdown",
      "metadata": {
        "id": "view-in-github",
        "colab_type": "text"
      },
      "source": [
        "<a href=\"https://colab.research.google.com/github/Gc04346/machinelearning/blob/main/python_basico.ipynb\" target=\"_parent\"><img src=\"https://colab.research.google.com/assets/colab-badge.svg\" alt=\"Open In Colab\"/></a>"
      ]
    },
    {
      "cell_type": "code",
      "metadata": {
        "id": "CAAjaqOawhyq"
      },
      "source": [
        "# Python Básico"
      ],
      "execution_count": null,
      "outputs": []
    },
    {
      "cell_type": "code",
      "metadata": {
        "id": "N-MOTWYzthfU"
      },
      "source": [
        "## Unidade 2"
      ],
      "execution_count": null,
      "outputs": []
    },
    {
      "cell_type": "code",
      "metadata": {
        "id": "UlI6aTrNtsYz"
      },
      "source": [
        "### Exercício 8"
      ],
      "execution_count": null,
      "outputs": []
    },
    {
      "cell_type": "code",
      "metadata": {
        "id": "JtAj9OZpwsHg"
      },
      "source": [
        "def exibe_amigos(pessoas, amizades, nome_pessoa):\n",
        "  \"\"\"\n",
        "  Lista os amigos de uma pessoa.\n",
        "  Args:\n",
        "    pessoas: vetor que relaciona os nomes das pessoas com seus \"ids\" (índices no vetor)\n",
        "    amizades: matriz de amizades\n",
        "    nome_pessoa: pessoa de cujos amigos estamos buscando\n",
        "  Returns:\n",
        "    lista de amigos de nome_pessoa\n",
        "  \"\"\"\n",
        "  person_index: int = pessoas.index(nome_pessoa)\n",
        "  friends: list = [pessoas[index] for index, friendship in enumerate(amizades[person_index]) if friendship]\n",
        "  return friends\n",
        "\n",
        "def exibe_amigos_em_comum(pessoas, amizades, nome_pessoa_1, nome_pessoa_2):\n",
        "  \"\"\"\n",
        "  Lista os amigos em comum entre duas pessoas.\n",
        "  Args:\n",
        "    pessoas: vetor que relaciona os nomes das pessoas com seus \"ids\" (índices no vetor)\n",
        "    amizades: matriz de amizades\n",
        "    nome_pessoa_1: nome da primeira pessoa\n",
        "    nome_pessoa_2: nome da segunda pessoa pessoa\n",
        "  Returns:\n",
        "    Lista de amigos em comum entre nome_pessoa_1 e nome_pessoa_2.\n",
        "  \"\"\"\n",
        "  person_one_index: int = pessoas.index(nome_pessoa_1)\n",
        "  person_two_index: int = pessoas.index(nome_pessoa_2)\n",
        "  person_one_friends: list = [index for index, friendship in enumerate(amizades[person_one_index]) if friendship]\n",
        "  person_two_friends: list = [index for index, friendship in enumerate(amizades[person_two_index]) if friendship]\n",
        "  mutual_friends: list = [pessoas[friend] for friend in person_one_friends if friend in person_two_friends]\n",
        "  return mutual_friends"
      ],
      "execution_count": null,
      "outputs": []
    },
    {
      "cell_type": "code",
      "metadata": {
        "id": "4VmpNFEew0zL",
        "colab": {
          "base_uri": "https://localhost:8080/"
        },
        "outputId": "ed9b8591-abc9-4202-998c-f22a9c8f14d1"
      },
      "source": [
        "pessoas = [\"Alice\",\"Bob\",\"Carol\"]\n",
        "amizades = [[0,1,0],\n",
        "           [1,1,0],\n",
        "            [1,1,0]]\n",
        "\n",
        "amigos_bob = exibe_amigos(pessoas, amizades,\"Bob\")\n",
        "print(f\"Amigos de Bob: {amigos_bob}\")  # Como a diagonal da matriz não é zero, teremos a peculiaridade de Bob ser amigo de Bob\n",
        "\n",
        "amigos_carol = exibe_amigos(pessoas, amizades,\"Carol\")\n",
        "print(f\"Amigos de Carol: {amigos_carol}\")\n",
        "\n",
        "amigos_alice = exibe_amigos(pessoas, amizades,\"Alice\")\n",
        "print(f\"Amigos de Alice: {amigos_alice}\")\n",
        "\n",
        "amigos_bob_carol = exibe_amigos_em_comum(pessoas, amizades,\"Bob\", \"Carol\")\n",
        "print(f\"Amigos em comum entre Bob e Carol: {amigos_bob_carol}\")\n",
        "\n",
        "amigos_alice_carol = exibe_amigos_em_comum(pessoas, amizades,\"Alice\", \"Carol\")\n",
        "print(f\"Amigos em comum entre Alice e Carol: {amigos_alice_carol}\")\n",
        "\n",
        "amigos_alice_bob = exibe_amigos_em_comum(pessoas, amizades,\"Alice\", \"Bob\")\n",
        "print(f\"Amigos em comum entre Alice e Bob: {amigos_alice_bob}\")"
      ],
      "execution_count": null,
      "outputs": [
        {
          "output_type": "stream",
          "name": "stdout",
          "text": [
            "Amigos de Bob: ['Alice', 'Bob']\n",
            "Amigos de Carol: ['Alice', 'Bob']\n",
            "Amigos de Alice: ['Bob']\n",
            "Amigos em comum entre Bob e Carol: ['Alice', 'Bob']\n",
            "Amigos em comum entre Alice e Carol: ['Bob']\n",
            "Amigos em comum entre Alice e Bob: ['Bob']\n"
          ]
        }
      ]
    },
    {
      "cell_type": "code",
      "metadata": {
        "id": "TFoslBOL7iE4"
      },
      "source": [
        "## Unidade 3"
      ],
      "execution_count": null,
      "outputs": []
    },
    {
      "cell_type": "code",
      "metadata": {
        "id": "JH3CKhdk7ngi"
      },
      "source": [
        "### Exercício 2"
      ],
      "execution_count": null,
      "outputs": []
    },
    {
      "cell_type": "code",
      "metadata": {
        "id": "uVY1NuEO7vfT"
      },
      "source": [
        "\n",
        "def elimina_caracteres(texto:str, caracteres_para_eliminar:str) -> str:\n",
        "  for caracter_eliminar in caracteres_para_eliminar:\n",
        "    texto = texto.replace(caracter_eliminar, '')\n",
        "  return texto"
      ],
      "execution_count": 16,
      "outputs": []
    },
    {
      "cell_type": "code",
      "metadata": {
        "id": "1jPS5QEy8J7E",
        "outputId": "14f52c8a-c84f-4809-ac66-b0b0d4c6d815",
        "colab": {
          "base_uri": "https://localhost:8080/"
        }
      },
      "source": [
        "resultado_1 = elimina_caracteres('correndo contra o tempo', 'coe')\n",
        "resultado_2 = elimina_caracteres('trigo para tigres tristes', 'ieo') #saída: trg para tgrs trsts\n",
        "print(resultado_1)\n",
        "print(resultado_2)"
      ],
      "execution_count": 18,
      "outputs": [
        {
          "output_type": "stream",
          "name": "stdout",
          "text": [
            "rrnd ntra  tmp\n",
            "trg para tgrs trsts\n"
          ]
        }
      ]
    },
    {
      "cell_type": "code",
      "metadata": {
        "id": "nLAgvk5I7wFF"
      },
      "source": [
        "def substitua_caracteres(texto:str, caracteres_procura:str, caracteres_substituir_por:str) -> str:\n",
        "  for i in range(len(caracteres_procura)):\n",
        "    caractere_procura = caracteres_procura[i]\n",
        "    caractere_substituir_por = caracteres_substituir_por[i]\n",
        "    texto = texto.replace(caractere_procura, caractere_substituir_por)\n",
        "        \n",
        "  return texto"
      ],
      "execution_count": 19,
      "outputs": []
    },
    {
      "cell_type": "code",
      "metadata": {
        "id": "AlB_-chz90y1",
        "outputId": "cbbaa736-e921-473e-9e9a-0c20b89c9eca",
        "colab": {
          "base_uri": "https://localhost:8080/"
        }
      },
      "source": [
        "resultado_1 = substitua_caracteres('o sapo nao lava o pe', 'aoe', 'iiu')\n",
        "resultado_2 = substitua_caracteres('ana comprou uma ariranha', 'aoi', 'uee') #saida: unu cempreu umu urerunhu\n",
        "print(resultado_1)\n",
        "print(resultado_2)"
      ],
      "execution_count": 20,
      "outputs": [
        {
          "output_type": "stream",
          "name": "stdout",
          "text": [
            "i sipi nii livi i pu\n",
            "unu cempreu umu urerunhu\n"
          ]
        }
      ]
    },
    {
      "cell_type": "code",
      "metadata": {
        "id": "BEfjMbUn7tR5"
      },
      "source": [
        "### Exercício 3"
      ],
      "execution_count": null,
      "outputs": []
    },
    {
      "cell_type": "code",
      "metadata": {
        "id": "bbuYa1J5-lrU"
      },
      "source": [
        "def clean_string(string:str) -> str:\n",
        "  \"\"\"\n",
        "    Remove acentuação e pontuação da string.\n",
        "    Args:\n",
        "      String a ser limpa.\n",
        "    Returns:\n",
        "      String limpa.\n",
        "  \"\"\"\n",
        "  from unicodedata import normalize\n",
        "  for char in [',', '-', '!', '?', ' ']:\n",
        "    string = string.replace(char,'')\n",
        "  string: str = normalize('NFKD', string).encode('ASCII','ignore').decode('ASCII')\n",
        "  return string.lower()\n",
        "\n",
        "def verifica_palindromo(texto:str) -> bool:\n",
        "    texto = clean_string(texto)\n",
        "    for i, _ in enumerate(texto):\n",
        "      if texto[i] != texto[-(i+1)]:\n",
        "        return False\n",
        "    return True"
      ],
      "execution_count": 30,
      "outputs": []
    },
    {
      "cell_type": "code",
      "metadata": {
        "id": "auLoZeI_ADRS",
        "outputId": "4a6a460b-8e54-4b29-dcb5-c0b25a46b912",
        "colab": {
          "base_uri": "https://localhost:8080/"
        }
      },
      "source": [
        "print(verifica_palindromo(\"após a sopa\") )\n",
        "print(verifica_palindromo(\"azul\"))\n",
        "print(verifica_palindromo(\"Socorram-me, subi no ônibus em Marrocos\"))"
      ],
      "execution_count": 31,
      "outputs": [
        {
          "output_type": "stream",
          "name": "stdout",
          "text": [
            "True\n",
            "False\n",
            "True\n"
          ]
        }
      ]
    },
    {
      "cell_type": "code",
      "metadata": {
        "id": "fTDSSVEs7uKx"
      },
      "source": [
        "### Exercício 5"
      ],
      "execution_count": null,
      "outputs": []
    },
    {
      "cell_type": "code",
      "metadata": {
        "id": "S-v_SQxG7wr5"
      },
      "source": [
        "from typing import Callable\n",
        "\n",
        "def soma(vetor_1: list, vetor_2: list) -> list:\n",
        "  x: tuple = tuple(zip(vetor_1, vetor_2))  # Agrupando os dois vetores em uma tupla\n",
        "  return [pair[0] + pair[1] for pair in x]  # Considerando cada elemento da tupla como um par, somamos cada parte do par\n",
        "\n",
        "def multiplica(vetor_1: list, vetor_2: list) -> list:\n",
        "  x: tuple = tuple(zip(vetor_1, vetor_2))  # Agrupando os dois vetores em uma tupla\n",
        "  return [pair[0] * pair[1] for pair in x]  # Considerando cada elemento da tupla como um par, multiplicamos cada parte do par\n",
        "\n",
        "def subtrai(vetor_1: list, vetor_2: list) -> list:\n",
        "  x: tuple = tuple(zip(vetor_1, vetor_2))  # Agrupando os dois vetores em uma tupla\n",
        "  return [pair[0] - pair[1] for pair in x]  # Considerando cada elemento da tupla como um par, subtraímos cada parte do par\n",
        "\n",
        "def executa_operacao_vetor(op: Callable, vetor_1: list, vetor_2: list) -> list:\n",
        "  \"\"\"\n",
        "    Executa uma operação entre os elementos da mesma posição entre dois vetores de mesmo tamanho.\n",
        "    Args:\n",
        "      op: função de operação\n",
        "      vetor_1: primeiro vetor\n",
        "      vetor_2: segundo vetor\n",
        "    Returns:\n",
        "      Vetor com a operação especificada já realizada\n",
        "  \"\"\"\n",
        "  try:\n",
        "    if len(vetor_1) != len(vetor_2):\n",
        "      raise ValueError('Os vetores têm tamanhos diferentes e porisso a operação não pôde ser realizada')\n",
        "    return op(vetor_1, vetor_2)\n",
        "  except ValueError as e:\n",
        "    print(e)"
      ],
      "execution_count": 42,
      "outputs": []
    },
    {
      "cell_type": "code",
      "metadata": {
        "id": "8b19h3zMEY--",
        "outputId": "6f804602-4214-4245-8310-8d0b9c24e6a9",
        "colab": {
          "base_uri": "https://localhost:8080/"
        }
      },
      "source": [
        "print(executa_operacao_vetor(soma,[5, 7], [3, 2]))\n",
        "print(executa_operacao_vetor(multiplica,[5, 7], [3, 2]))\n",
        "print(executa_operacao_vetor(subtrai,[5, 7], [3, 2]))"
      ],
      "execution_count": 43,
      "outputs": [
        {
          "output_type": "stream",
          "name": "stdout",
          "text": [
            "[8, 9]\n",
            "[15, 14]\n",
            "[2, 5]\n"
          ]
        }
      ]
    }
  ]
}